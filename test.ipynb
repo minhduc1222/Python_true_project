{
 "cells": [
  {
   "cell_type": "code",
   "execution_count": 1,
   "metadata": {},
   "outputs": [
    {
     "ename": "FileNotFoundError",
     "evalue": "[Errno 2] No such file or directory: 'example.csv'",
     "output_type": "error",
     "traceback": [
      "\u001b[1;31m---------------------------------------------------------------------------\u001b[0m",
      "\u001b[1;31mFileNotFoundError\u001b[0m                         Traceback (most recent call last)",
      "Cell \u001b[1;32mIn[1], line 4\u001b[0m\n\u001b[0;32m      1\u001b[0m \u001b[38;5;28;01mimport\u001b[39;00m \u001b[38;5;21;01mcsv\u001b[39;00m\n\u001b[0;32m      3\u001b[0m \u001b[38;5;66;03m# Reading from a CSV file\u001b[39;00m\n\u001b[1;32m----> 4\u001b[0m \u001b[38;5;28;01mwith\u001b[39;00m \u001b[38;5;28;43mopen\u001b[39;49m\u001b[43m(\u001b[49m\u001b[38;5;124;43m'\u001b[39;49m\u001b[38;5;124;43mexample.csv\u001b[39;49m\u001b[38;5;124;43m'\u001b[39;49m\u001b[43m,\u001b[49m\u001b[43m \u001b[49m\u001b[43mmode\u001b[49m\u001b[38;5;241;43m=\u001b[39;49m\u001b[38;5;124;43m'\u001b[39;49m\u001b[38;5;124;43mr\u001b[39;49m\u001b[38;5;124;43m'\u001b[39;49m\u001b[43m,\u001b[49m\u001b[43m \u001b[49m\u001b[43mnewline\u001b[49m\u001b[38;5;241;43m=\u001b[39;49m\u001b[38;5;124;43m'\u001b[39;49m\u001b[38;5;124;43m'\u001b[39;49m\u001b[43m)\u001b[49m \u001b[38;5;28;01mas\u001b[39;00m file:\n\u001b[0;32m      5\u001b[0m     csv_reader \u001b[38;5;241m=\u001b[39m csv\u001b[38;5;241m.\u001b[39mreader(file)\n\u001b[0;32m      7\u001b[0m     \u001b[38;5;66;03m# If the CSV file has a header\u001b[39;00m\n",
      "File \u001b[1;32m~\\AppData\\Roaming\\Python\\Python312\\site-packages\\IPython\\core\\interactiveshell.py:324\u001b[0m, in \u001b[0;36m_modified_open\u001b[1;34m(file, *args, **kwargs)\u001b[0m\n\u001b[0;32m    317\u001b[0m \u001b[38;5;28;01mif\u001b[39;00m file \u001b[38;5;129;01min\u001b[39;00m {\u001b[38;5;241m0\u001b[39m, \u001b[38;5;241m1\u001b[39m, \u001b[38;5;241m2\u001b[39m}:\n\u001b[0;32m    318\u001b[0m     \u001b[38;5;28;01mraise\u001b[39;00m \u001b[38;5;167;01mValueError\u001b[39;00m(\n\u001b[0;32m    319\u001b[0m         \u001b[38;5;124mf\u001b[39m\u001b[38;5;124m\"\u001b[39m\u001b[38;5;124mIPython won\u001b[39m\u001b[38;5;124m'\u001b[39m\u001b[38;5;124mt let you open fd=\u001b[39m\u001b[38;5;132;01m{\u001b[39;00mfile\u001b[38;5;132;01m}\u001b[39;00m\u001b[38;5;124m by default \u001b[39m\u001b[38;5;124m\"\u001b[39m\n\u001b[0;32m    320\u001b[0m         \u001b[38;5;124m\"\u001b[39m\u001b[38;5;124mas it is likely to crash IPython. If you know what you are doing, \u001b[39m\u001b[38;5;124m\"\u001b[39m\n\u001b[0;32m    321\u001b[0m         \u001b[38;5;124m\"\u001b[39m\u001b[38;5;124myou can use builtins\u001b[39m\u001b[38;5;124m'\u001b[39m\u001b[38;5;124m open.\u001b[39m\u001b[38;5;124m\"\u001b[39m\n\u001b[0;32m    322\u001b[0m     )\n\u001b[1;32m--> 324\u001b[0m \u001b[38;5;28;01mreturn\u001b[39;00m \u001b[43mio_open\u001b[49m\u001b[43m(\u001b[49m\u001b[43mfile\u001b[49m\u001b[43m,\u001b[49m\u001b[43m \u001b[49m\u001b[38;5;241;43m*\u001b[39;49m\u001b[43margs\u001b[49m\u001b[43m,\u001b[49m\u001b[43m \u001b[49m\u001b[38;5;241;43m*\u001b[39;49m\u001b[38;5;241;43m*\u001b[39;49m\u001b[43mkwargs\u001b[49m\u001b[43m)\u001b[49m\n",
      "\u001b[1;31mFileNotFoundError\u001b[0m: [Errno 2] No such file or directory: 'example.csv'"
     ]
    }
   ],
   "source": [
    "import csv\n",
    "\n",
    "# Reading from a CSV file\n",
    "with open('example.csv', mode='r', newline='') as file:\n",
    "    csv_reader = csv.reader(file)\n",
    "    \n",
    "    # If the CSV file has a header\n",
    "    headers = next(csv_reader)  \n",
    "    \n",
    "    # Reading the rows\n",
    "    for row in csv_reader:\n",
    "        print(row)  # Each row is a list of values\n"
   ]
  },
  {
   "cell_type": "code",
   "execution_count": null,
   "metadata": {},
   "outputs": [],
   "source": [
    "import csv\n",
    "\n",
    "# Data to write (a list of lists)\n",
    "data = [\n",
    "    ['Name', 'Age', 'Occupation'],\n",
    "    ['Alice', 30, 'Engineer'],\n",
    "    ['Bob', 25, 'Designer'],\n",
    "    ['Charlie', 35, 'Doctor']\n",
    "]\n",
    "\n",
    "# Writing to a CSV file\n",
    "with open('output.csv', mode='w', newline='') as file:\n",
    "    csv_writer = csv.writer(file)\n",
    "    \n",
    "    # Writing the rows\n",
    "    for row in data:\n",
    "        csv_writer.writerow(row)\n"
   ]
  },
  {
   "cell_type": "code",
   "execution_count": null,
   "metadata": {},
   "outputs": [
    {
     "name": "stdout",
     "output_type": "stream",
     "text": [
      "{'name': 'Tom and Jerry', 'director': 'Fred Quimby', 'video_length': '20', 'rating': '8.9'}\n",
      "{'name': \"Breakfast at Tiffany's\", 'director': 'Blake Edwards', 'video_length': '10', 'rating': '9.0'}\n",
      "{'name': 'Casablanca', 'director': 'Michael Curtiz', 'video_length': '50', 'rating': '7.8'}\n",
      "{'name': 'The Godfather', 'director': 'Francis Ford Coppola', 'video_length': '20', 'rating': '5'}\n",
      "{'name': 'fads', 'director': 'asdf', 'video_length': '30', 'rating': '3.0'}\n",
      "{'name': 'asdf', 'director': 'dfsa', 'video_length': '3', 'rating': '4.0'}\n"
     ]
    }
   ],
   "source": [
    "import csv\n",
    "\n",
    "# Reading from a CSV file into a dictionary\n",
    "with open('video_details.csv', mode='r', newline='') as file:\n",
    "    csv_reader = csv.DictReader(file)\n",
    "    \n",
    "    for row in csv_reader:\n",
    "        print(row)  # Each row is an OrderedDict\n"
   ]
  },
  {
   "cell_type": "code",
   "execution_count": null,
   "metadata": {},
   "outputs": [],
   "source": [
    "import csv\n",
    "\n",
    "# Data to write (a list of dictionaries)\n",
    "data = [\n",
    "    {'Name': 'Alice', 'Age': 30, 'Occupation': 'Engineer'},\n",
    "    {'Name': 'Bob', 'Age': 25, 'Occupation': 'Designer'},\n",
    "    {'Name': 'Charlie', 'Age': 35, 'Occupation': 'Doctor'}\n",
    "]\n",
    "\n",
    "# Writing to a CSV file\n",
    "with open('video_details.csv', mode='w', newline='') as file:\n",
    "    fieldnames = ['Name', 'Age', 'Occupation']\n",
    "    csv_writer = csv.DictWriter(file, fieldnames=fieldnames)\n",
    "    \n",
    "    # Writing the header\n",
    "    csv_writer.writeheader()\n",
    "    \n",
    "    # Writing the rows\n",
    "    for row in data:\n",
    "        csv_writer.writerow(row)\n"
   ]
  },
  {
   "cell_type": "code",
   "execution_count": null,
   "metadata": {},
   "outputs": [
    {
     "name": "stdout",
     "output_type": "stream",
     "text": [
      "[{'name': 'Tom and Jerry', 'director': 'Fred Quimby', 'video_length': '20', 'rating': '8.9'}, {'name': \"Breakfast at Tiffany's\", 'director': 'Blake Edwards', 'video_length': '10', 'rating': '9.0'}, {'name': 'Casablanca', 'director': 'Michael Curtiz', 'video_length': '50', 'rating': '7.8'}, {'name': 'The Godfather', 'director': 'Francis Ford Coppola', 'video_length': '20', 'rating': '5'}, {'name': 'fads', 'director': 'asdf', 'video_length': '30', 'rating': '3.0'}, {'name': 'asdf', 'director': 'dfsa', 'video_length': '3', 'rating': '4.0'}]\n",
      "['Tom and Jerry', \"Breakfast at Tiffany's\", 'Casablanca', 'The Godfather', 'fads', 'asdf']\n",
      "['tomandjerry', \"breakfastattiffany's\", 'casablanca', 'thegodfather', 'fads', 'asdf']\n"
     ]
    }
   ],
   "source": [
    "def read_csv(file_name):\n",
    "    with open(file_name, mode='r', newline='') as file:\n",
    "        csv_reader = csv.DictReader(file)\n",
    "        return [row for row in csv_reader]\n",
    "    \n",
    "def write_to_csv(data_dict, file_name):\n",
    "    if not data_dict:\n",
    "        print(\"The dictionary is empty.\")\n",
    "        return\n",
    "\n",
    "    with open(file_name, mode='w', newline='') as file:\n",
    "        fieldnames = ['name','director','video_length','rating']\n",
    "        csv_writer = csv.DictWriter(file, fieldnames=fieldnames)\n",
    "        \n",
    "        # Writing the header\n",
    "        csv_writer.writeheader()\n",
    "        \n",
    "        # Writing the rows\n",
    "        for row in data_dict:\n",
    "            csv_writer.writerow(row)\n",
    "\n",
    "print(read_csv('video_details.csv'))\n",
    "print ([item['name'] for item in read_csv('video_details.csv')])\n",
    "\n",
    "data = read_csv('video_details.csv')\n",
    "name_data = [item['name'].strip().lower().replace(\" \", \"\") for item in data]\n",
    "print(name_data)"
   ]
  },
  {
   "cell_type": "code",
   "execution_count": null,
   "metadata": {},
   "outputs": [
    {
     "name": "stdout",
     "output_type": "stream",
     "text": [
      "['1', '2', '3', '4', '5', '6', '7']\n"
     ]
    }
   ],
   "source": [
    "data = read_csv('video_details.csv')\n",
    "\n",
    "print( [item['id'] for item in data])\n",
    "print()"
   ]
  }
 ],
 "metadata": {
  "kernelspec": {
   "display_name": "Python 3",
   "language": "python",
   "name": "python3"
  },
  "language_info": {
   "codemirror_mode": {
    "name": "ipython",
    "version": 3
   },
   "file_extension": ".py",
   "mimetype": "text/x-python",
   "name": "python",
   "nbconvert_exporter": "python",
   "pygments_lexer": "ipython3",
   "version": "3.12.4"
  }
 },
 "nbformat": 4,
 "nbformat_minor": 2
}
